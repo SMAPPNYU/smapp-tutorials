{
 "cells": [
  {
   "cell_type": "code",
   "execution_count": 1,
   "metadata": {
    "collapsed": true
   },
   "outputs": [],
   "source": [
    "from smappdragon.tools.tweet_cleaner import clean_tweets_multiple\n",
    "from pysmap import SmappDataset"
   ]
  },
  {
   "cell_type": "code",
   "execution_count": 21,
   "metadata": {
    "collapsed": false
   },
   "outputs": [],
   "source": [
    "# clean the data, match every file that matches womens_march_2017_data__*\n",
    "# and put it into two files clean_women_tweets.json and dirty_women_tweets.json\n",
    "clean_tweets_multiple('/Users/yvanscher/smappwork/temp/womens_march_2017_data__*.json', '/Users/yvanscher/smappwork/temp/clean_women_tweets.json', '/Users/yvanscher/smappwork/temp/dirty_women_tweets.json')"
   ]
  },
  {
   "cell_type": "code",
   "execution_count": 24,
   "metadata": {
    "collapsed": false
   },
   "outputs": [
    {
     "name": "stdout",
     "output_type": "stream",
     "text": [
      "/Users/yvanscher/smappwork/temp\n",
      "-rw-r--r--+ 1 yvanscher  staff   268M 23 jui 17:29 clean_women_tweets.json\r\n",
      "-rw-r--r--+ 1 yvanscher  staff     0B 23 jui 17:29 dirty_women_tweets.json\r\n"
     ]
    }
   ],
   "source": [
    "%cd ~/smappwork/temp/\n",
    "%ls -lah clean_women_tweets.json dirty_women_tweets.json"
   ]
  },
  {
   "cell_type": "code",
   "execution_count": null,
   "metadata": {
    "collapsed": true
   },
   "outputs": [],
   "source": [
    "# so there were no dirty tweets as the file size is 0 bytes."
   ]
  },
  {
   "cell_type": "code",
   "execution_count": 25,
   "metadata": {
    "collapsed": false
   },
   "outputs": [
    {
     "name": "stdout",
     "output_type": "stream",
     "text": [
      "/Users/yvanscher/smappwork/temp\n"
     ]
    }
   ],
   "source": [
    "# make a dataset with the clean file\n",
    "# sinec there's only one file you\n",
    "# could also use a SmappCollection\n",
    "# object!\n",
    "%cd ~/smappwork/temp/\n",
    "dataset = SmappDataset(['json', 'clean_women_tweets.json'])"
   ]
  },
  {
   "cell_type": "code",
   "execution_count": 26,
   "metadata": {
    "collapsed": false
   },
   "outputs": [
    {
     "name": "stdout",
     "output_type": "stream",
     "text": [
      "{'in_reply_to_status_id': None, 'quoted_status_id_str': '821834191142813698', 'place': None, 'id': 821840783011627009, 'geo': None, 'favorite_count': 0, 'display_text_range': [0, 7], 'smapp_timestamp': 'Wed Jan 18 17:04:46 +0000 2017', 'quoted_status_id': 821834191142813698, 'created_at': 'Wed Jan 18 22:04:46 +0000 2017', 'entities': {'hashtags': [], 'urls': [{'display_url': 'twitter.com/MaryEmilyOHara…', 'url': 'https://t.co/81KX7hJVIa', 'expanded_url': 'https://twitter.com/MaryEmilyOHara/status/821834191142813698', 'indices': [8, 31]}], 'symbols': [], 'user_mentions': []}, 'text': 'Hooray! https://t.co/81KX7hJVIa', 'is_quote_status': True, 'in_reply_to_user_id_str': None, 'filter_level': 'low', 'in_reply_to_status_id_str': None, 'in_reply_to_screen_name': None, 'user': {'favourites_count': 955, 'url': 'http://www.kristinamarusic.com/', 'is_translator': False, 'location': 'Pittsburgh, PA', 'profile_image_url_https': 'https://pbs.twimg.com/profile_images/3114076449/8cfff7f06fbf23328fc24bda5354e1ec_normal.jpeg', 'id': 1093217887, 'profile_banner_url': 'https://pbs.twimg.com/profile_banners/1093217887/1420662405', 'screen_name': 'KristinaSaurusR', 'profile_background_color': '000000', 'friends_count': 893, 'utc_offset': -28800, 'description': 'Literary nonfiction writer & journalist w/bylines at @Logo @womenshealthmag, @slate, @theadvocatemag, @MTVNews, @afterellen, @cnfonline, etc. #lgbt #binder', 'created_at': 'Tue Jan 15 20:49:45 +0000 2013', 'default_profile': False, 'profile_background_image_url_https': 'https://abs.twimg.com/images/themes/theme1/bg.png', 'profile_background_tile': False, 'lang': 'en', 'profile_background_image_url': 'http://abs.twimg.com/images/themes/theme1/bg.png', 'profile_link_color': 'FF691F', 'notifications': None, 'statuses_count': 684, 'following': None, 'name': 'Kristina Marusic', 'profile_use_background_image': False, 'profile_sidebar_fill_color': '000000', 'contributors_enabled': False, 'listed_count': 28, 'protected': False, 'follow_request_sent': None, 'default_profile_image': False, 'profile_sidebar_border_color': '000000', 'geo_enabled': True, 'verified': True, 'id_str': '1093217887', 'profile_image_url': 'http://pbs.twimg.com/profile_images/3114076449/8cfff7f06fbf23328fc24bda5354e1ec_normal.jpeg', 'time_zone': 'Pacific Time (US & Canada)', 'followers_count': 981, 'profile_text_color': '000000'}, 'lang': 'en', 'possibly_sensitive': False, 'in_reply_to_user_id': None, 'retweet_count': 0, 'favorited': False, 'id_str': '821840783011627009', 'source': '<a href=\"http://twitter.com\" rel=\"nofollow\">Twitter Web Client</a>', 'truncated': False, 'quoted_status': {'in_reply_to_status_id': None, 'source': '<a href=\"http://twitter.com\" rel=\"nofollow\">Twitter Web Client</a>', 'place': None, 'id': 821834191142813698, 'geo': None, 'display_text_range': [0, 84], 'filter_level': 'low', 'created_at': 'Wed Jan 18 21:38:34 +0000 2017', 'text': 'Oh hay @JanelleMonae just announced she will perform at #WomensMarch. See you there! https://t.co/0Ury6763Xx', 'entities': {'media': [{'url': 'https://t.co/0Ury6763Xx', 'id_str': '821834032400863232', 'indices': [85, 108], 'type': 'photo', 'expanded_url': 'https://twitter.com/MaryEmilyOHara/status/821834191142813698/photo/1', 'id': 821834032400863232, 'display_url': 'pic.twitter.com/0Ury6763Xx', 'media_url_https': 'https://pbs.twimg.com/media/C2e9sr2UkAA4AaO.jpg', 'sizes': {'small': {'h': 371, 'w': 680, 'resize': 'fit'}, 'large': {'h': 458, 'w': 840, 'resize': 'fit'}, 'medium': {'h': 458, 'w': 840, 'resize': 'fit'}, 'thumb': {'h': 150, 'w': 150, 'resize': 'crop'}}, 'media_url': 'http://pbs.twimg.com/media/C2e9sr2UkAA4AaO.jpg'}], 'hashtags': [{'text': 'WomensMarch', 'indices': [56, 68]}], 'urls': [], 'symbols': [], 'user_mentions': [{'id_str': '12266442', 'id': 12266442, 'indices': [7, 20], 'screen_name': 'JanelleMonae', 'name': 'Janelle Monáe, Cindi'}]}, 'is_quote_status': False, 'in_reply_to_user_id_str': None, 'extended_entities': {'media': [{'url': 'https://t.co/0Ury6763Xx', 'id_str': '821834032400863232', 'indices': [85, 108], 'type': 'photo', 'expanded_url': 'https://twitter.com/MaryEmilyOHara/status/821834191142813698/photo/1', 'id': 821834032400863232, 'display_url': 'pic.twitter.com/0Ury6763Xx', 'media_url_https': 'https://pbs.twimg.com/media/C2e9sr2UkAA4AaO.jpg', 'sizes': {'small': {'h': 371, 'w': 680, 'resize': 'fit'}, 'large': {'h': 458, 'w': 840, 'resize': 'fit'}, 'medium': {'h': 458, 'w': 840, 'resize': 'fit'}, 'thumb': {'h': 150, 'w': 150, 'resize': 'crop'}}, 'media_url': 'http://pbs.twimg.com/media/C2e9sr2UkAA4AaO.jpg'}]}, 'in_reply_to_status_id_str': None, 'in_reply_to_screen_name': None, 'user': {'favourites_count': 10862, 'url': 'http://www.dailydot.com/authors/mary-emily-ohara/', 'is_translator': False, 'location': 'Brooklyn, NY', 'profile_image_url_https': 'https://pbs.twimg.com/profile_images/768970877069303809/NG2rCVz6_normal.jpg', 'id': 1077017899, 'profile_banner_url': 'https://pbs.twimg.com/profile_banners/1077017899/1451581006', 'screen_name': 'MaryEmilyOHara', 'profile_background_color': '000000', 'friends_count': 1763, 'utc_offset': -14400, 'description': \"Contributor @nbcout / Comms for @womensmarchnyc. My tweets are FIRE 🔥 CONTENT/don't represent my employers. #LezPrez Email maryemilyohara@gmail.com.\", 'created_at': 'Thu Jan 10 16:19:55 +0000 2013', 'default_profile': False, 'profile_background_image_url_https': 'https://abs.twimg.com/images/themes/theme1/bg.png', 'profile_background_tile': False, 'lang': 'en', 'profile_background_image_url': 'http://abs.twimg.com/images/themes/theme1/bg.png', 'profile_link_color': 'ABB8C2', 'notifications': None, 'statuses_count': 11282, 'following': None, 'name': \"Mary Emily O'Hara\", 'profile_use_background_image': False, 'profile_sidebar_fill_color': '000000', 'contributors_enabled': False, 'listed_count': 128, 'protected': False, 'follow_request_sent': None, 'default_profile_image': False, 'profile_sidebar_border_color': '000000', 'geo_enabled': True, 'verified': True, 'id_str': '1077017899', 'profile_image_url': 'http://pbs.twimg.com/profile_images/768970877069303809/NG2rCVz6_normal.jpg', 'time_zone': 'Atlantic Time (Canada)', 'followers_count': 4364, 'profile_text_color': '000000'}, 'lang': 'en', 'possibly_sensitive': False, 'in_reply_to_user_id': None, 'retweet_count': 0, 'favorited': False, 'id_str': '821834191142813698', 'favorite_count': 5, 'truncated': False, 'contributors': None, 'retweeted': False, 'coordinates': None}, 'contributors': None, 'retweeted': False, 'coordinates': None, 'timestamp_ms': '1484777086390'}\n"
     ]
    }
   ],
   "source": [
    "#check one line from tweet file for sanity sake\n",
    "for tweet in dataset:\n",
    "    print(tweet)\n",
    "    break"
   ]
  },
  {
   "cell_type": "code",
   "execution_count": 1,
   "metadata": {
    "collapsed": true
   },
   "outputs": [],
   "source": [
    "# this line seems to be valid json (just eyeballing, no errors thrown)"
   ]
  },
  {
   "cell_type": "code",
   "execution_count": 27,
   "metadata": {
    "collapsed": true
   },
   "outputs": [],
   "source": [
    "# define csv columns\n",
    "field_list = ['id_str','text','user.screen_name']"
   ]
  },
  {
   "cell_type": "code",
   "execution_count": 28,
   "metadata": {
    "collapsed": true
   },
   "outputs": [],
   "source": [
    "# dump to csv with this dataset and these columns\n",
    "dataset.dump_to_csv('clean_women_dump.csv', field_list)"
   ]
  },
  {
   "cell_type": "code",
   "execution_count": 30,
   "metadata": {
    "collapsed": false
   },
   "outputs": [
    {
     "name": "stdout",
     "output_type": "stream",
     "text": [
      "-rw-r--r--+ 1 yvanscher  staff   6,2M 23 jui 17:33 clean_women_dump.csv\r\n"
     ]
    }
   ],
   "source": [
    "%ls -lah clean_women_dump.csv"
   ]
  },
  {
   "cell_type": "code",
   "execution_count": 31,
   "metadata": {
    "collapsed": false
   },
   "outputs": [
    {
     "name": "stdout",
     "output_type": "stream",
     "text": [
      "id_str,text,user.screen_name\r",
      "\r\n",
      "821840783011627009,Hooray! https://t.co/81KX7hJVIa,KristinaSaurusR\r",
      "\r\n",
      "821840787650609153,RT @M_Z_Harrison: London #womensmarch starts Grosvenor Square at 12. https://t.co/q5DJsy80WV,wyliehorn\r",
      "\r\n",
      "821840786291650561,What's the deal with this woman's march on Saturday #WomensMarchOnWashington #WomensMarch https://t.co/n0kDaGE5c9,FLYTYPRODUCTION\r",
      "\r\n",
      "821840789906935810,RT @studionumberone: March with pride this Saturday! #WomensMarch #WeStandTogether #HearOurVoice https://t.co/62MOIKWnnu,AmelEUROZOOM\r",
      "\r\n",
      "cat: stdout: Broken pipe\r\n"
     ]
    }
   ],
   "source": [
    "%cat clean_women_dump.csv | head -n 5"
   ]
  },
  {
   "cell_type": "markdown",
   "metadata": {
    "collapsed": true
   },
   "source": [
    "# summary\n",
    "\n",
    "1 - clean the tweets, clean tweets and dirty tweets will be in files you specify in the clean function\n",
    "\n",
    "2 - make a SmappDataset, define columns and dump to csv\n",
    "\n",
    "3 - check the csv\n",
    "\n",
    "it looks like we managed to dump the data into a csv!"
   ]
  },
  {
   "cell_type": "code",
   "execution_count": null,
   "metadata": {
    "collapsed": true
   },
   "outputs": [],
   "source": []
  }
 ],
 "metadata": {
  "kernelspec": {
   "display_name": "Python 3",
   "language": "python",
   "name": "python3"
  },
  "language_info": {
   "codemirror_mode": {
    "name": "ipython",
    "version": 3
   },
   "file_extension": ".py",
   "mimetype": "text/x-python",
   "name": "python",
   "nbconvert_exporter": "python",
   "pygments_lexer": "ipython3",
   "version": "3.6.0"
  }
 },
 "nbformat": 4,
 "nbformat_minor": 2
}
